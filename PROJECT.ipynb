{
 "cells": [
  {
   "cell_type": "code",
   "execution_count": 3,
   "metadata": {},
   "outputs": [],
   "source": [
    "import numpy as np\n",
    "import pandas as pd\n",
    "import matplotlib.pyplot as plt"
   ]
  },
  {
   "cell_type": "code",
   "execution_count": 4,
   "metadata": {},
   "outputs": [
    {
     "name": "stdout",
     "output_type": "stream",
     "text": [
      "                                        Page Pageviews Unique Pageviews  \\\n",
      "0                                          /    12,050            3,102   \n",
      "1                      /collections/lingerie     3,340              796   \n",
      "2     /collections/womens-halloween-costumes     3,017              763   \n",
      "3        /collections/matching-lingerie-sets     1,984              498   \n",
      "4          /collections/thigh-high-stockings     1,958              462   \n",
      "...                                      ...       ...              ...   \n",
      "5005                                  8/7/20    14,905              NaN   \n",
      "5006                                  8/8/20    13,225              NaN   \n",
      "5007                                  8/9/20    14,449              NaN   \n",
      "5008                                 8/10/20    15,286              NaN   \n",
      "5009                                     NaN    99,911              NaN   \n",
      "\n",
      "     Avg. Time on Page Entrances Bounce Rate % Exit Page Value  \n",
      "0             00:00:12     2,909       0.79%  7.99%      $0.58  \n",
      "1             00:00:23       266       1.50%  9.34%      $0.77  \n",
      "2             00:00:24       351       0.28%  9.94%      $0.16  \n",
      "3             00:00:19        65       1.54%  8.11%      $0.66  \n",
      "4             00:00:21       156       0.64%  9.55%      $1.69  \n",
      "...                ...       ...         ...    ...        ...  \n",
      "5005               NaN       NaN         NaN    NaN        NaN  \n",
      "5006               NaN       NaN         NaN    NaN        NaN  \n",
      "5007               NaN       NaN         NaN    NaN        NaN  \n",
      "5008               NaN       NaN         NaN    NaN        NaN  \n",
      "5009               NaN       NaN         NaN    NaN        NaN  \n",
      "\n",
      "[5010 rows x 8 columns]\n"
     ]
    }
   ],
   "source": [
    "import pandas as pd\n",
    "pageviews = pd.read_csv(\"/Users/audreychu/Desktop/FLEXDATASCIENCE/AnalyticsAllWebSiteDataPages20200804-20200810.csv\",error_bad_lines=False)\n",
    "print(pageviews)"
   ]
  },
  {
   "cell_type": "code",
   "execution_count": 5,
   "metadata": {},
   "outputs": [
    {
     "data": {
      "text/html": [
       "<div>\n",
       "<style scoped>\n",
       "    .dataframe tbody tr th:only-of-type {\n",
       "        vertical-align: middle;\n",
       "    }\n",
       "\n",
       "    .dataframe tbody tr th {\n",
       "        vertical-align: top;\n",
       "    }\n",
       "\n",
       "    .dataframe thead th {\n",
       "        text-align: right;\n",
       "    }\n",
       "</style>\n",
       "<table border=\"1\" class=\"dataframe\">\n",
       "  <thead>\n",
       "    <tr style=\"text-align: right;\">\n",
       "      <th></th>\n",
       "      <th>Page</th>\n",
       "      <th>Pageviews</th>\n",
       "    </tr>\n",
       "  </thead>\n",
       "  <tbody>\n",
       "    <tr>\n",
       "      <th>1</th>\n",
       "      <td>/collections/lingerie</td>\n",
       "      <td>3,340</td>\n",
       "    </tr>\n",
       "    <tr>\n",
       "      <th>2</th>\n",
       "      <td>/collections/womens-halloween-costumes</td>\n",
       "      <td>3,017</td>\n",
       "    </tr>\n",
       "    <tr>\n",
       "      <th>3</th>\n",
       "      <td>/collections/matching-lingerie-sets</td>\n",
       "      <td>1,984</td>\n",
       "    </tr>\n",
       "    <tr>\n",
       "      <th>4</th>\n",
       "      <td>/collections/thigh-high-stockings</td>\n",
       "      <td>1,958</td>\n",
       "    </tr>\n",
       "    <tr>\n",
       "      <th>5</th>\n",
       "      <td>/cart</td>\n",
       "      <td>1,943</td>\n",
       "    </tr>\n",
       "  </tbody>\n",
       "</table>\n",
       "</div>"
      ],
      "text/plain": [
       "                                     Page Pageviews\n",
       "1                   /collections/lingerie     3,340\n",
       "2  /collections/womens-halloween-costumes     3,017\n",
       "3     /collections/matching-lingerie-sets     1,984\n",
       "4       /collections/thigh-high-stockings     1,958\n",
       "5                                   /cart     1,943"
      ]
     },
     "execution_count": 5,
     "metadata": {},
     "output_type": "execute_result"
    }
   ],
   "source": [
    "#pageviews.plot.bar(x='Page', y='Unique Pageviews')\n",
    "import matplotlib.pyplot as plt\n",
    "x=pageviews['Page']\n",
    "y=pageviews['Pageviews']\n",
    "newdf = pageviews[['Page', 'Pageviews']]\n",
    "newdf = newdf[1:6]\n",
    "newdf"
   ]
  },
  {
   "cell_type": "code",
   "execution_count": 6,
   "metadata": {},
   "outputs": [
    {
     "data": {
      "text/plain": [
       "dtype('O')"
      ]
     },
     "execution_count": 6,
     "metadata": {},
     "output_type": "execute_result"
    }
   ],
   "source": [
    "newdf['Pageviews'].dtypes"
   ]
  },
  {
   "cell_type": "code",
   "execution_count": 7,
   "metadata": {
    "scrolled": true
   },
   "outputs": [
    {
     "data": {
      "text/html": [
       "<div>\n",
       "<style scoped>\n",
       "    .dataframe tbody tr th:only-of-type {\n",
       "        vertical-align: middle;\n",
       "    }\n",
       "\n",
       "    .dataframe tbody tr th {\n",
       "        vertical-align: top;\n",
       "    }\n",
       "\n",
       "    .dataframe thead th {\n",
       "        text-align: right;\n",
       "    }\n",
       "</style>\n",
       "<table border=\"1\" class=\"dataframe\">\n",
       "  <thead>\n",
       "    <tr style=\"text-align: right;\">\n",
       "      <th></th>\n",
       "      <th>Page</th>\n",
       "      <th>Pageviews</th>\n",
       "    </tr>\n",
       "  </thead>\n",
       "  <tbody>\n",
       "    <tr>\n",
       "      <th>1</th>\n",
       "      <td>/collections/lingerie</td>\n",
       "      <td>3,340</td>\n",
       "    </tr>\n",
       "    <tr>\n",
       "      <th>2</th>\n",
       "      <td>/collections/womens-halloween-costumes</td>\n",
       "      <td>3,017</td>\n",
       "    </tr>\n",
       "    <tr>\n",
       "      <th>3</th>\n",
       "      <td>/collections/matching-lingerie-sets</td>\n",
       "      <td>1,984</td>\n",
       "    </tr>\n",
       "    <tr>\n",
       "      <th>4</th>\n",
       "      <td>/collections/thigh-high-stockings</td>\n",
       "      <td>1,958</td>\n",
       "    </tr>\n",
       "    <tr>\n",
       "      <th>5</th>\n",
       "      <td>/cart</td>\n",
       "      <td>1,943</td>\n",
       "    </tr>\n",
       "  </tbody>\n",
       "</table>\n",
       "</div>"
      ],
      "text/plain": [
       "                                     Page Pageviews\n",
       "1                   /collections/lingerie     3,340\n",
       "2  /collections/womens-halloween-costumes     3,017\n",
       "3     /collections/matching-lingerie-sets     1,984\n",
       "4       /collections/thigh-high-stockings     1,958\n",
       "5                                   /cart     1,943"
      ]
     },
     "execution_count": 7,
     "metadata": {},
     "output_type": "execute_result"
    }
   ],
   "source": [
    "newdf"
   ]
  },
  {
   "cell_type": "code",
   "execution_count": 8,
   "metadata": {},
   "outputs": [
    {
     "data": {
      "text/html": [
       "<div>\n",
       "<style scoped>\n",
       "    .dataframe tbody tr th:only-of-type {\n",
       "        vertical-align: middle;\n",
       "    }\n",
       "\n",
       "    .dataframe tbody tr th {\n",
       "        vertical-align: top;\n",
       "    }\n",
       "\n",
       "    .dataframe thead th {\n",
       "        text-align: right;\n",
       "    }\n",
       "</style>\n",
       "<table border=\"1\" class=\"dataframe\">\n",
       "  <thead>\n",
       "    <tr style=\"text-align: right;\">\n",
       "      <th></th>\n",
       "      <th>Page</th>\n",
       "      <th>Pageviews</th>\n",
       "    </tr>\n",
       "  </thead>\n",
       "  <tbody>\n",
       "    <tr>\n",
       "      <th>1</th>\n",
       "      <td>/collections/lingerie</td>\n",
       "      <td>3340</td>\n",
       "    </tr>\n",
       "    <tr>\n",
       "      <th>2</th>\n",
       "      <td>/collections/womens-halloween-costumes</td>\n",
       "      <td>3017</td>\n",
       "    </tr>\n",
       "    <tr>\n",
       "      <th>3</th>\n",
       "      <td>/collections/matching-lingerie-sets</td>\n",
       "      <td>1984</td>\n",
       "    </tr>\n",
       "    <tr>\n",
       "      <th>4</th>\n",
       "      <td>/collections/thigh-high-stockings</td>\n",
       "      <td>1958</td>\n",
       "    </tr>\n",
       "    <tr>\n",
       "      <th>5</th>\n",
       "      <td>/cart</td>\n",
       "      <td>1943</td>\n",
       "    </tr>\n",
       "  </tbody>\n",
       "</table>\n",
       "</div>"
      ],
      "text/plain": [
       "                                     Page Pageviews\n",
       "1                   /collections/lingerie      3340\n",
       "2  /collections/womens-halloween-costumes      3017\n",
       "3     /collections/matching-lingerie-sets      1984\n",
       "4       /collections/thigh-high-stockings      1958\n",
       "5                                   /cart      1943"
      ]
     },
     "execution_count": 8,
     "metadata": {},
     "output_type": "execute_result"
    }
   ],
   "source": [
    "newdf = newdf.replace(',','', regex=True)\n",
    "newdf"
   ]
  },
  {
   "cell_type": "code",
   "execution_count": 9,
   "metadata": {},
   "outputs": [
    {
     "data": {
      "text/plain": [
       "Page         object\n",
       "Pageviews    object\n",
       "dtype: object"
      ]
     },
     "execution_count": 9,
     "metadata": {},
     "output_type": "execute_result"
    }
   ],
   "source": [
    "newdf.dtypes"
   ]
  },
  {
   "cell_type": "code",
   "execution_count": 10,
   "metadata": {},
   "outputs": [
    {
     "data": {
      "text/plain": [
       "1    3340\n",
       "2    3017\n",
       "3    1984\n",
       "4    1958\n",
       "5    1943\n",
       "Name: Pageviews, dtype: object"
      ]
     },
     "execution_count": 10,
     "metadata": {},
     "output_type": "execute_result"
    }
   ],
   "source": [
    "boxplotdf=newdf[\"Pageviews\"]\n",
    "boxplotdf.head()"
   ]
  },
  {
   "cell_type": "code",
   "execution_count": 11,
   "metadata": {},
   "outputs": [
    {
     "data": {
      "text/plain": [
       "array([3340, 3017, 1984, 1958, 1943])"
      ]
     },
     "execution_count": 11,
     "metadata": {},
     "output_type": "execute_result"
    }
   ],
   "source": [
    "boxplotdf=list(boxplotdf)\n",
    "boxplotdf = np.array(boxplotdf).astype(np.int)\n",
    "boxplotdf"
   ]
  },
  {
   "cell_type": "code",
   "execution_count": 12,
   "metadata": {},
   "outputs": [
    {
     "data": {
      "image/png": "[encoded data removed]",
      "text/plain": [
       "<Figure size 432x288 with 1 Axes>"
      ]
     },
     "metadata": {
      "needs_background": "light"
     },
     "output_type": "display_data"
    }
   ],
   "source": [
    "plt.ylabel('Pageviews')\n",
    "plt.boxplot(boxplotdf);"
   ]
  },
  {
   "cell_type": "code",
   "execution_count": 13,
   "metadata": {},
   "outputs": [],
   "source": [
    "import numpy as np"
   ]
  },
  {
   "cell_type": "code",
   "execution_count": 14,
   "metadata": {},
   "outputs": [
    {
     "data": {
      "image/png": "[encoded data removed]",
      "text/plain": [
       "<Figure size 640x480 with 1 Axes>"
      ]
     },
     "metadata": {},
     "output_type": "display_data"
    }
   ],
   "source": [
    "import matplotlib.pyplot as plt\n",
    "import numpy as np\n",
    "\n",
    "# Fixing random state for reproducibility\n",
    "np.random.seed(19680801)\n",
    "\n",
    "\n",
    "plt.rcdefaults()\n",
    "fig, ax = plt.subplots()\n",
    "\n",
    "# Example data\n",
    "Pages = ('/collections/lingerie','/collections/womens-halloween-costumes','/collections/matching-lingerie-sets','/collections/thigh-high-stockings','/cart')\n",
    "y_pos = np.arange(len(Pages))\n",
    "Pageviews = newdf['Pageviews']\n",
    "plt.barh(y_pos,Pageviews,color='#004785')\n",
    "plt.yticks(y_pos,Pages)\n",
    "plt.show()"
   ]
  },
  {
   "cell_type": "code",
   "execution_count": 15,
   "metadata": {},
   "outputs": [],
   "source": [
    "df2 = pd.read_csv(\"/Users/audreychu/Desktop/FLEXDATASCIENCE/AUGUST20192020USERS.csv\",error_bad_lines=False)"
   ]
  },
  {
   "cell_type": "code",
   "execution_count": 16,
   "metadata": {},
   "outputs": [
    {
     "data": {
      "text/html": [
       "<div>\n",
       "<style scoped>\n",
       "    .dataframe tbody tr th:only-of-type {\n",
       "        vertical-align: middle;\n",
       "    }\n",
       "\n",
       "    .dataframe tbody tr th {\n",
       "        vertical-align: top;\n",
       "    }\n",
       "\n",
       "    .dataframe thead th {\n",
       "        text-align: right;\n",
       "    }\n",
       "</style>\n",
       "<table border=\"1\" class=\"dataframe\">\n",
       "  <thead>\n",
       "    <tr style=\"text-align: right;\">\n",
       "      <th></th>\n",
       "      <th>Month Index</th>\n",
       "      <th>Users</th>\n",
       "    </tr>\n",
       "  </thead>\n",
       "  <tbody>\n",
       "    <tr>\n",
       "      <th>0</th>\n",
       "      <td>0.0</td>\n",
       "      <td>26,880</td>\n",
       "    </tr>\n",
       "    <tr>\n",
       "      <th>1</th>\n",
       "      <td>1.0</td>\n",
       "      <td>55,154</td>\n",
       "    </tr>\n",
       "    <tr>\n",
       "      <th>2</th>\n",
       "      <td>2.0</td>\n",
       "      <td>116,906</td>\n",
       "    </tr>\n",
       "    <tr>\n",
       "      <th>3</th>\n",
       "      <td>3.0</td>\n",
       "      <td>28,689</td>\n",
       "    </tr>\n",
       "    <tr>\n",
       "      <th>4</th>\n",
       "      <td>4.0</td>\n",
       "      <td>24,877</td>\n",
       "    </tr>\n",
       "    <tr>\n",
       "      <th>5</th>\n",
       "      <td>5.0</td>\n",
       "      <td>28,522</td>\n",
       "    </tr>\n",
       "    <tr>\n",
       "      <th>6</th>\n",
       "      <td>6.0</td>\n",
       "      <td>27,840</td>\n",
       "    </tr>\n",
       "    <tr>\n",
       "      <th>7</th>\n",
       "      <td>7.0</td>\n",
       "      <td>22,931</td>\n",
       "    </tr>\n",
       "    <tr>\n",
       "      <th>8</th>\n",
       "      <td>8.0</td>\n",
       "      <td>24,937</td>\n",
       "    </tr>\n",
       "    <tr>\n",
       "      <th>9</th>\n",
       "      <td>9.0</td>\n",
       "      <td>27,172</td>\n",
       "    </tr>\n",
       "    <tr>\n",
       "      <th>10</th>\n",
       "      <td>10.0</td>\n",
       "      <td>24,158</td>\n",
       "    </tr>\n",
       "    <tr>\n",
       "      <th>11</th>\n",
       "      <td>11.0</td>\n",
       "      <td>27,386</td>\n",
       "    </tr>\n",
       "    <tr>\n",
       "      <th>12</th>\n",
       "      <td>12.0</td>\n",
       "      <td>20,290</td>\n",
       "    </tr>\n",
       "    <tr>\n",
       "      <th>13</th>\n",
       "      <td>NaN</td>\n",
       "      <td>455,742</td>\n",
       "    </tr>\n",
       "  </tbody>\n",
       "</table>\n",
       "</div>"
      ],
      "text/plain": [
       "    Month Index    Users\n",
       "0           0.0   26,880\n",
       "1           1.0   55,154\n",
       "2           2.0  116,906\n",
       "3           3.0   28,689\n",
       "4           4.0   24,877\n",
       "5           5.0   28,522\n",
       "6           6.0   27,840\n",
       "7           7.0   22,931\n",
       "8           8.0   24,937\n",
       "9           9.0   27,172\n",
       "10         10.0   24,158\n",
       "11         11.0   27,386\n",
       "12         12.0   20,290\n",
       "13          NaN  455,742"
      ]
     },
     "execution_count": 16,
     "metadata": {},
     "output_type": "execute_result"
    }
   ],
   "source": [
    "df2"
   ]
  },
  {
   "cell_type": "code",
   "execution_count": 17,
   "metadata": {},
   "outputs": [],
   "source": [
    "df2 = df2[['Users']]"
   ]
  },
  {
   "cell_type": "code",
   "execution_count": 18,
   "metadata": {},
   "outputs": [
    {
     "data": {
      "text/html": [
       "<div>\n",
       "<style scoped>\n",
       "    .dataframe tbody tr th:only-of-type {\n",
       "        vertical-align: middle;\n",
       "    }\n",
       "\n",
       "    .dataframe tbody tr th {\n",
       "        vertical-align: top;\n",
       "    }\n",
       "\n",
       "    .dataframe thead th {\n",
       "        text-align: right;\n",
       "    }\n",
       "</style>\n",
       "<table border=\"1\" class=\"dataframe\">\n",
       "  <thead>\n",
       "    <tr style=\"text-align: right;\">\n",
       "      <th></th>\n",
       "      <th>Users</th>\n",
       "    </tr>\n",
       "  </thead>\n",
       "  <tbody>\n",
       "    <tr>\n",
       "      <th>0</th>\n",
       "      <td>26,880</td>\n",
       "    </tr>\n",
       "    <tr>\n",
       "      <th>1</th>\n",
       "      <td>55,154</td>\n",
       "    </tr>\n",
       "    <tr>\n",
       "      <th>2</th>\n",
       "      <td>116,906</td>\n",
       "    </tr>\n",
       "    <tr>\n",
       "      <th>3</th>\n",
       "      <td>28,689</td>\n",
       "    </tr>\n",
       "    <tr>\n",
       "      <th>4</th>\n",
       "      <td>24,877</td>\n",
       "    </tr>\n",
       "    <tr>\n",
       "      <th>5</th>\n",
       "      <td>28,522</td>\n",
       "    </tr>\n",
       "    <tr>\n",
       "      <th>6</th>\n",
       "      <td>27,840</td>\n",
       "    </tr>\n",
       "    <tr>\n",
       "      <th>7</th>\n",
       "      <td>22,931</td>\n",
       "    </tr>\n",
       "    <tr>\n",
       "      <th>8</th>\n",
       "      <td>24,937</td>\n",
       "    </tr>\n",
       "    <tr>\n",
       "      <th>9</th>\n",
       "      <td>27,172</td>\n",
       "    </tr>\n",
       "    <tr>\n",
       "      <th>10</th>\n",
       "      <td>24,158</td>\n",
       "    </tr>\n",
       "    <tr>\n",
       "      <th>11</th>\n",
       "      <td>27,386</td>\n",
       "    </tr>\n",
       "    <tr>\n",
       "      <th>12</th>\n",
       "      <td>20,290</td>\n",
       "    </tr>\n",
       "    <tr>\n",
       "      <th>13</th>\n",
       "      <td>455,742</td>\n",
       "    </tr>\n",
       "  </tbody>\n",
       "</table>\n",
       "</div>"
      ],
      "text/plain": [
       "      Users\n",
       "0    26,880\n",
       "1    55,154\n",
       "2   116,906\n",
       "3    28,689\n",
       "4    24,877\n",
       "5    28,522\n",
       "6    27,840\n",
       "7    22,931\n",
       "8    24,937\n",
       "9    27,172\n",
       "10   24,158\n",
       "11   27,386\n",
       "12   20,290\n",
       "13  455,742"
      ]
     },
     "execution_count": 18,
     "metadata": {},
     "output_type": "execute_result"
    }
   ],
   "source": [
    "df2"
   ]
  },
  {
   "cell_type": "code",
   "execution_count": 19,
   "metadata": {},
   "outputs": [],
   "source": [
    "df3 = pd.read_csv(\"/Users/audreychu/Desktop/FLEXDATASCIENCE/SHOPIFYREVENUEAUGUST2019AUGUST2020.csv\",error_bad_lines=False)"
   ]
  },
  {
   "cell_type": "code",
   "execution_count": 20,
   "metadata": {},
   "outputs": [
    {
     "data": {
      "text/html": [
       "<div>\n",
       "<style scoped>\n",
       "    .dataframe tbody tr th:only-of-type {\n",
       "        vertical-align: middle;\n",
       "    }\n",
       "\n",
       "    .dataframe tbody tr th {\n",
       "        vertical-align: top;\n",
       "    }\n",
       "\n",
       "    .dataframe thead th {\n",
       "        text-align: right;\n",
       "    }\n",
       "</style>\n",
       "<table border=\"1\" class=\"dataframe\">\n",
       "  <thead>\n",
       "    <tr style=\"text-align: right;\">\n",
       "      <th></th>\n",
       "      <th>day</th>\n",
       "      <th>orders</th>\n",
       "      <th>gross_sales</th>\n",
       "      <th>discounts</th>\n",
       "      <th>returns</th>\n",
       "      <th>net_sales</th>\n",
       "      <th>shipping</th>\n",
       "      <th>taxes</th>\n",
       "      <th>total_sales</th>\n",
       "    </tr>\n",
       "  </thead>\n",
       "  <tbody>\n",
       "    <tr>\n",
       "      <th>0</th>\n",
       "      <td>2019-08-01</td>\n",
       "      <td>4</td>\n",
       "      <td>283.0</td>\n",
       "      <td>-18.00</td>\n",
       "      <td>0.00</td>\n",
       "      <td>265.00</td>\n",
       "      <td>0.00</td>\n",
       "      <td>15.10</td>\n",
       "      <td>280.10</td>\n",
       "    </tr>\n",
       "    <tr>\n",
       "      <th>1</th>\n",
       "      <td>2019-08-02</td>\n",
       "      <td>6</td>\n",
       "      <td>217.0</td>\n",
       "      <td>-26.95</td>\n",
       "      <td>0.00</td>\n",
       "      <td>190.05</td>\n",
       "      <td>24.85</td>\n",
       "      <td>0.59</td>\n",
       "      <td>215.49</td>\n",
       "    </tr>\n",
       "    <tr>\n",
       "      <th>2</th>\n",
       "      <td>2019-08-03</td>\n",
       "      <td>2</td>\n",
       "      <td>148.0</td>\n",
       "      <td>-5.00</td>\n",
       "      <td>0.00</td>\n",
       "      <td>143.00</td>\n",
       "      <td>0.00</td>\n",
       "      <td>10.37</td>\n",
       "      <td>153.37</td>\n",
       "    </tr>\n",
       "    <tr>\n",
       "      <th>3</th>\n",
       "      <td>2019-08-04</td>\n",
       "      <td>1</td>\n",
       "      <td>50.0</td>\n",
       "      <td>0.00</td>\n",
       "      <td>0.00</td>\n",
       "      <td>50.00</td>\n",
       "      <td>0.00</td>\n",
       "      <td>0.00</td>\n",
       "      <td>50.00</td>\n",
       "    </tr>\n",
       "    <tr>\n",
       "      <th>4</th>\n",
       "      <td>2019-08-05</td>\n",
       "      <td>11</td>\n",
       "      <td>604.0</td>\n",
       "      <td>-81.50</td>\n",
       "      <td>0.00</td>\n",
       "      <td>522.50</td>\n",
       "      <td>37.80</td>\n",
       "      <td>22.08</td>\n",
       "      <td>582.38</td>\n",
       "    </tr>\n",
       "    <tr>\n",
       "      <th>...</th>\n",
       "      <td>...</td>\n",
       "      <td>...</td>\n",
       "      <td>...</td>\n",
       "      <td>...</td>\n",
       "      <td>...</td>\n",
       "      <td>...</td>\n",
       "      <td>...</td>\n",
       "      <td>...</td>\n",
       "      <td>...</td>\n",
       "    </tr>\n",
       "    <tr>\n",
       "      <th>381</th>\n",
       "      <td>2020-08-16</td>\n",
       "      <td>11</td>\n",
       "      <td>430.0</td>\n",
       "      <td>-5.55</td>\n",
       "      <td>0.00</td>\n",
       "      <td>424.45</td>\n",
       "      <td>37.80</td>\n",
       "      <td>6.94</td>\n",
       "      <td>469.19</td>\n",
       "    </tr>\n",
       "    <tr>\n",
       "      <th>382</th>\n",
       "      <td>2020-08-17</td>\n",
       "      <td>13</td>\n",
       "      <td>449.0</td>\n",
       "      <td>-15.50</td>\n",
       "      <td>0.00</td>\n",
       "      <td>433.50</td>\n",
       "      <td>17.85</td>\n",
       "      <td>12.13</td>\n",
       "      <td>463.48</td>\n",
       "    </tr>\n",
       "    <tr>\n",
       "      <th>383</th>\n",
       "      <td>2020-08-18</td>\n",
       "      <td>11</td>\n",
       "      <td>486.7</td>\n",
       "      <td>-11.70</td>\n",
       "      <td>0.00</td>\n",
       "      <td>475.00</td>\n",
       "      <td>75.60</td>\n",
       "      <td>24.01</td>\n",
       "      <td>574.61</td>\n",
       "    </tr>\n",
       "    <tr>\n",
       "      <th>384</th>\n",
       "      <td>2020-08-19</td>\n",
       "      <td>9</td>\n",
       "      <td>950.0</td>\n",
       "      <td>-16.45</td>\n",
       "      <td>39.90</td>\n",
       "      <td>973.45</td>\n",
       "      <td>-26.95</td>\n",
       "      <td>36.78</td>\n",
       "      <td>983.28</td>\n",
       "    </tr>\n",
       "    <tr>\n",
       "      <th>385</th>\n",
       "      <td>2020-08-20</td>\n",
       "      <td>0</td>\n",
       "      <td>0.0</td>\n",
       "      <td>0.00</td>\n",
       "      <td>13.85</td>\n",
       "      <td>13.85</td>\n",
       "      <td>0.00</td>\n",
       "      <td>-13.85</td>\n",
       "      <td>0.00</td>\n",
       "    </tr>\n",
       "  </tbody>\n",
       "</table>\n",
       "<p>386 rows × 9 columns</p>\n",
       "</div>"
      ],
      "text/plain": [
       "            day  orders  gross_sales  discounts  returns  net_sales  shipping  \\\n",
       "0    2019-08-01       4        283.0     -18.00     0.00     265.00      0.00   \n",
       "1    2019-08-02       6        217.0     -26.95     0.00     190.05     24.85   \n",
       "2    2019-08-03       2        148.0      -5.00     0.00     143.00      0.00   \n",
       "3    2019-08-04       1         50.0       0.00     0.00      50.00      0.00   \n",
       "4    2019-08-05      11        604.0     -81.50     0.00     522.50     37.80   \n",
       "..          ...     ...          ...        ...      ...        ...       ...   \n",
       "381  2020-08-16      11        430.0      -5.55     0.00     424.45     37.80   \n",
       "382  2020-08-17      13        449.0     -15.50     0.00     433.50     17.85   \n",
       "383  2020-08-18      11        486.7     -11.70     0.00     475.00     75.60   \n",
       "384  2020-08-19       9        950.0     -16.45    39.90     973.45    -26.95   \n",
       "385  2020-08-20       0          0.0       0.00    13.85      13.85      0.00   \n",
       "\n",
       "     taxes  total_sales  \n",
       "0    15.10       280.10  \n",
       "1     0.59       215.49  \n",
       "2    10.37       153.37  \n",
       "3     0.00        50.00  \n",
       "4    22.08       582.38  \n",
       "..     ...          ...  \n",
       "381   6.94       469.19  \n",
       "382  12.13       463.48  \n",
       "383  24.01       574.61  \n",
       "384  36.78       983.28  \n",
       "385 -13.85         0.00  \n",
       "\n",
       "[386 rows x 9 columns]"
      ]
     },
     "execution_count": 20,
     "metadata": {},
     "output_type": "execute_result"
    }
   ],
   "source": [
    "df3"
   ]
  },
  {
   "cell_type": "code",
   "execution_count": 26,
   "metadata": {},
   "outputs": [
    {
     "data": {
      "text/plain": [
       "<Figure size 2000x200 with 0 Axes>"
      ]
     },
     "metadata": {},
     "output_type": "display_data"
    },
    {
     "data": {
      "image/png": "[encoded data removed]",
      "text/plain": [
       "<Figure size 640x480 with 1 Axes>"
      ]
     },
     "metadata": {},
     "output_type": "display_data"
    },
    {
     "data": {
      "image/png": "[encoded data removed]",
      "text/plain": [
       "<Figure size 640x480 with 1 Axes>"
      ]
     },
     "metadata": {},
     "output_type": "display_data"
    }
   ],
   "source": [
    "plt.style.use('ggplot')\n",
    "fig = plt.figure(figsize=(20, 2));\n",
    "fig, ax = plt.subplots()\n",
    "x = df3['day']\n",
    "y = df3['total_sales']\n",
    "salesvsdays = df3[['day', 'total_sales']]\n",
    "lines = salesvsdays.plot.line(color='#a90533');\n",
    "ax.set_xlabel('Days after 08/01/2019')\n",
    "ax.set_title('Sales vs Days')\n",
    "plt.show();"
   ]
  },
  {
   "cell_type": "code",
   "execution_count": 91,
   "metadata": {},
   "outputs": [
    {
     "data": {
      "text/plain": [
       "RangeIndex(start=0, stop=386, step=1)"
      ]
     },
     "execution_count": 91,
     "metadata": {},
     "output_type": "execute_result"
    }
   ],
   "source": [
    "df3.index"
   ]
  },
  {
   "cell_type": "code",
   "execution_count": 97,
   "metadata": {},
   "outputs": [
    {
     "data": {
      "text/plain": [
       "(array([-50.,   0.,  50., 100., 150., 200., 250., 300., 350., 400., 450.]),\n",
       " <a list of 11 Text major ticklabel objects>)"
      ]
     },
     "execution_count": 97,
     "metadata": {},
     "output_type": "execute_result"
    },
    {
     "data": {
      "image/png": "[encoded data removed]",
      "text/plain": [
       "<Figure size 640x480 with 1 Axes>"
      ]
     },
     "metadata": {},
     "output_type": "display_data"
    }
   ],
   "source": [
    "df3.set_index('day')['total_sales'].plot(color='#a90533');\n",
    "plt.xticks(rotation=45)\n"
   ]
  },
  {
   "cell_type": "code",
   "execution_count": 74,
   "metadata": {},
   "outputs": [
    {
     "name": "stdout",
     "output_type": "stream",
     "text": [
      "     month  orders  gross_sales  discounts  returns  net_sales  shipping  \\\n",
      "0  2019-01     224     10141.85    -685.72    19.95    9476.08    909.30   \n",
      "1  2019-02     269     12861.20   -1251.63     0.00   11609.57   1277.50   \n",
      "2  2019-03     210     13314.65    -782.07     0.00   12532.58    956.55   \n",
      "3  2019-04     214     11301.99    -259.13    59.85   11102.71   1156.75   \n",
      "4  2019-05     222     15673.40   -1255.93    57.25   14474.72    909.65   \n",
      "5  2019-06     185      8892.40    -726.78     0.00    8165.62    877.80   \n",
      "6  2019-07     156      7425.60    -638.16    16.58    6804.02    708.75   \n",
      "7  2019-08     222     11035.50    -950.94     0.00   10084.56    811.65   \n",
      "\n",
      "    taxes  total_sales  \n",
      "0  250.10     10635.48  \n",
      "1  244.24     13131.31  \n",
      "2  227.25     13716.38  \n",
      "3  163.08     12422.54  \n",
      "4  260.98     15645.35  \n",
      "5  157.32      9200.74  \n",
      "6  155.23      7668.00  \n",
      "7  255.73     11151.94  \n"
     ]
    }
   ],
   "source": [
    "import pandas as pd\n",
    "monthlysales2019 = pd.read_csv(\"sales_2019-01-01_2019-08-31 (1).csv\",error_bad_lines=False)\n",
    "print(monthlysales2019) "
   ]
  },
  {
   "cell_type": "code",
   "execution_count": 75,
   "metadata": {},
   "outputs": [
    {
     "data": {
      "text/html": [
       "<div>\n",
       "<style scoped>\n",
       "    .dataframe tbody tr th:only-of-type {\n",
       "        vertical-align: middle;\n",
       "    }\n",
       "\n",
       "    .dataframe tbody tr th {\n",
       "        vertical-align: top;\n",
       "    }\n",
       "\n",
       "    .dataframe thead th {\n",
       "        text-align: right;\n",
       "    }\n",
       "</style>\n",
       "<table border=\"1\" class=\"dataframe\">\n",
       "  <thead>\n",
       "    <tr style=\"text-align: right;\">\n",
       "      <th></th>\n",
       "      <th>month</th>\n",
       "      <th>total_sales</th>\n",
       "    </tr>\n",
       "  </thead>\n",
       "  <tbody>\n",
       "    <tr>\n",
       "      <th>0</th>\n",
       "      <td>2019-01</td>\n",
       "      <td>10635.48</td>\n",
       "    </tr>\n",
       "    <tr>\n",
       "      <th>1</th>\n",
       "      <td>2019-02</td>\n",
       "      <td>13131.31</td>\n",
       "    </tr>\n",
       "    <tr>\n",
       "      <th>2</th>\n",
       "      <td>2019-03</td>\n",
       "      <td>13716.38</td>\n",
       "    </tr>\n",
       "    <tr>\n",
       "      <th>3</th>\n",
       "      <td>2019-04</td>\n",
       "      <td>12422.54</td>\n",
       "    </tr>\n",
       "    <tr>\n",
       "      <th>4</th>\n",
       "      <td>2019-05</td>\n",
       "      <td>15645.35</td>\n",
       "    </tr>\n",
       "    <tr>\n",
       "      <th>5</th>\n",
       "      <td>2019-06</td>\n",
       "      <td>9200.74</td>\n",
       "    </tr>\n",
       "    <tr>\n",
       "      <th>6</th>\n",
       "      <td>2019-07</td>\n",
       "      <td>7668.00</td>\n",
       "    </tr>\n",
       "    <tr>\n",
       "      <th>7</th>\n",
       "      <td>2019-08</td>\n",
       "      <td>11151.94</td>\n",
       "    </tr>\n",
       "  </tbody>\n",
       "</table>\n",
       "</div>"
      ],
      "text/plain": [
       "     month  total_sales\n",
       "0  2019-01     10635.48\n",
       "1  2019-02     13131.31\n",
       "2  2019-03     13716.38\n",
       "3  2019-04     12422.54\n",
       "4  2019-05     15645.35\n",
       "5  2019-06      9200.74\n",
       "6  2019-07      7668.00\n",
       "7  2019-08     11151.94"
      ]
     },
     "execution_count": 75,
     "metadata": {},
     "output_type": "execute_result"
    }
   ],
   "source": [
    "x=monthlysales2019['month']\n",
    "y=monthlysales2019['total_sales']\n",
    "newdf = monthlysales2019[['month', 'total_sales']]\n",
    "newdf = newdf[['month','total_sales']]\n",
    "newdf"
   ]
  },
  {
   "cell_type": "code",
   "execution_count": 89,
   "metadata": {},
   "outputs": [
    {
     "data": {
      "image/png": "[encoded data removed]",
      "text/plain": [
       "<Figure size 640x480 with 1 Axes>"
      ]
     },
     "metadata": {},
     "output_type": "display_data"
    }
   ],
   "source": [
    "month = ('2019-01','2019-02','2019-03','2019-04','2019-05','2019-06','2019-07','2019-08')\n",
    "y_pos = np.arange(len(month))\n",
    "total_sales = newdf['total_sales']\n",
    "plt.barh(y_pos,total_sales,color='#004785')\n",
    "plt.yticks(ticks = y_pos, labels = month, rotation= 'horizontal')\n",
    "plt.xlabel('Sales')\n",
    "plt.ylabel('Month')\n",
    "plt.show()"
   ]
  },
  {
   "cell_type": "code",
   "execution_count": null,
   "metadata": {},
   "outputs": [],
   "source": []
  }
 ],
 "metadata": {
  "kernelspec": {
   "display_name": "Python 3",
   "language": "python",
   "name": "python3"
  },
  "language_info": {
   "codemirror_mode": {
    "name": "ipython",
    "version": 3
   },
   "file_extension": ".py",
   "mimetype": "text/x-python",
   "name": "python",
   "nbconvert_exporter": "python",
   "pygments_lexer": "ipython3",
   "version": "3.8.3"
  }
 },
 "nbformat": 4,
 "nbformat_minor": 4
}
